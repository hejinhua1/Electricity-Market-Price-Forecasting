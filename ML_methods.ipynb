{
 "cells": [
  {
   "cell_type": "code",
   "execution_count": null,
   "metadata": {
    "collapsed": true,
    "pycharm": {
     "name": "#%% 加载数据\n"
    }
   },
   "outputs": [],
   "source": [
    "import joblib\n",
    "import pandas as pd\n",
    "\n",
    "\n",
    "# 选择需要归一化的列\n",
    "columns_to_normalize = ['time_order', 'provincial_load_forecast', 'tie_line_load_forecast',\n",
    "                        'total_power_forecast', 'new_energy_power_forecast',\n",
    "                        'hydraulic_power_forecast', 'non_market_power_forecast',\n",
    "                        'dayahead_clearing_price']\n",
    "# # 加载 scaler\n",
    "scaler = joblib.load('../data/scaler.joblib')\n",
    "data_train = pd.read_feather('../data/train_data.feather')\n",
    "data_val = pd.read_feather('../data/val_data.feather')\n",
    "data_test = pd.read_feather('../data/test_data.feather')\n",
    "# 对上面的数据集进行归一化\n",
    "data_train[columns_to_normalize] = scaler.transform(data_train[columns_to_normalize])\n",
    "data_val[columns_to_normalize] = scaler.transform(data_val[columns_to_normalize])\n",
    "data_test[columns_to_normalize] = scaler.transform(data_test[columns_to_normalize])\n",
    "\n"
   ]
  }
 ],
 "metadata": {
  "kernelspec": {
   "display_name": "Python 3",
   "language": "python",
   "name": "python3"
  },
  "language_info": {
   "codemirror_mode": {
    "name": "ipython",
    "version": 2
   },
   "file_extension": ".py",
   "mimetype": "text/x-python",
   "name": "python",
   "nbconvert_exporter": "python",
   "pygments_lexer": "ipython2",
   "version": "2.7.6"
  }
 },
 "nbformat": 4,
 "nbformat_minor": 0
}